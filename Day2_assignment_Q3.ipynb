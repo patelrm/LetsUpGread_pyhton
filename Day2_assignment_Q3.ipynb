{
 "cells": [
  {
   "cell_type": "code",
   "execution_count": 3,
   "metadata": {},
   "outputs": [
    {
     "name": "stdout",
     "output_type": "stream",
     "text": [
      "dict_items([('name', 'rishit'), ('city', 'surat'), ('address', 'Gujrat'), ('mobile', 99091456)])\n"
     ]
    }
   ],
   "source": [
    "#1. items function is used to display of dictionary object\n",
    "info={\n",
    "    'name':'rishit',\n",
    "    'city':'surat',\n",
    "    'address':'Gujrat',\n",
    "     'mobile':99091456,\n",
    "}\n",
    "x=info.items()\n",
    "print(x)"
   ]
  },
  {
   "cell_type": "code",
   "execution_count": 4,
   "metadata": {},
   "outputs": [
    {
     "name": "stdout",
     "output_type": "stream",
     "text": [
      "dict_keys(['name', 'city', 'address', 'mobile'])\n"
     ]
    }
   ],
   "source": [
    "#2.keys \n",
    "info={\n",
    "    'name':'rishit',\n",
    "    'city':'surat',\n",
    "    'address':'Gujrat',\n",
    "     'mobile':99091456,\n",
    "}\n",
    "x=info.keys()\n",
    "print(x)"
   ]
  },
  {
   "cell_type": "code",
   "execution_count": 5,
   "metadata": {},
   "outputs": [
    {
     "name": "stdout",
     "output_type": "stream",
     "text": [
      "dict_values(['rishit', 'surat', 'Gujrat', 99091456])\n"
     ]
    }
   ],
   "source": [
    "#3.values\n",
    "info={\n",
    "    'name':'rishit',\n",
    "    'city':'surat',\n",
    "    'address':'Gujrat',\n",
    "     'mobile':99091456,\n",
    "}\n",
    "x=info.values()\n",
    "print(x)"
   ]
  },
  {
   "cell_type": "code",
   "execution_count": 7,
   "metadata": {},
   "outputs": [
    {
     "name": "stdout",
     "output_type": "stream",
     "text": [
      "rishit\n"
     ]
    }
   ],
   "source": [
    "#4.get\n",
    "info={\n",
    "    'name':'rishit',\n",
    "    'city':'surat',\n",
    "    'address':'Gujrat',\n",
    "     'mobile':99091456,\n",
    "}\n",
    "x=info.get(\"name\")\n",
    "print(x)"
   ]
  },
  {
   "cell_type": "code",
   "execution_count": 9,
   "metadata": {},
   "outputs": [
    {
     "name": "stdout",
     "output_type": "stream",
     "text": [
      "4\n"
     ]
    }
   ],
   "source": [
    "#4.len\n",
    "info={\n",
    "    'name':'rishit',\n",
    "    'city':'surat',\n",
    "    'address':'Gujrat',\n",
    "     'mobile':99091456,\n",
    "}\n",
    "\n",
    "print(len(info))"
   ]
  },
  {
   "cell_type": "code",
   "execution_count": 10,
   "metadata": {},
   "outputs": [
    {
     "name": "stdout",
     "output_type": "stream",
     "text": [
      "{'name': 'rishit', 'city': 'surat', 'address': 'Gujrat'}\n"
     ]
    }
   ],
   "source": [
    "#pop\n",
    "info={\n",
    "    'name':'rishit',\n",
    "    'city':'surat',\n",
    "    'address':'Gujrat',\n",
    "     'mobile':99091456,\n",
    "}\n",
    "info.pop('mobile')\n",
    "print(info)"
   ]
  },
  {
   "cell_type": "code",
   "execution_count": null,
   "metadata": {},
   "outputs": [],
   "source": []
  }
 ],
 "metadata": {
  "kernelspec": {
   "display_name": "Python 3",
   "language": "python",
   "name": "python3"
  },
  "language_info": {
   "codemirror_mode": {
    "name": "ipython",
    "version": 3
   },
   "file_extension": ".py",
   "mimetype": "text/x-python",
   "name": "python",
   "nbconvert_exporter": "python",
   "pygments_lexer": "ipython3",
   "version": "3.9.1"
  }
 },
 "nbformat": 4,
 "nbformat_minor": 4
}
