{
 "cells": [
  {
   "cell_type": "code",
   "execution_count": 9,
   "metadata": {},
   "outputs": [
    {
     "name": "stdout",
     "output_type": "stream",
     "text": [
      "['apple', 'bnana', 'cherry', 'orange']\n",
      "['apple', 'bnana', 'cherry', ['ford', 'bmw', 'volvo']]\n"
     ]
    }
   ],
   "source": [
    "#5 function of list Object in python\n",
    "#1.append\n",
    "fruits=['apple','bnana','cherry']\n",
    "fruits.append('orange')#append at last position \n",
    "print(fruits)\n",
    "a=['apple','bnana','cherry']\n",
    "b=['ford','bmw','volvo']\n",
    "a.append(b)\n",
    "print(a)"
   ]
  },
  {
   "cell_type": "code",
   "execution_count": 8,
   "metadata": {},
   "outputs": [
    {
     "name": "stdout",
     "output_type": "stream",
     "text": [
      "['apple', 'orange', 'mango', 'bnana', 'cherry']\n"
     ]
    }
   ],
   "source": [
    "#2.insert function is used to insert perticular postion in list object\n",
    "fruits=['apple','bnana','cherry']\n",
    "fruits.insert(1,'orange')\n",
    "fruits.insert(2,'mango')#insert(pos,element)\n",
    "print(fruits)\n"
   ]
  },
  {
   "cell_type": "code",
   "execution_count": 10,
   "metadata": {},
   "outputs": [
    {
     "name": "stdout",
     "output_type": "stream",
     "text": [
      "['bnana', 'cherry']\n"
     ]
    }
   ],
   "source": [
    "#3.remove  function\n",
    "fruits=['apple','bnana','cherry']\n",
    "fruits.remove('apple')\n",
    "print(fruits)"
   ]
  },
  {
   "cell_type": "code",
   "execution_count": 11,
   "metadata": {},
   "outputs": [
    {
     "name": "stdout",
     "output_type": "stream",
     "text": [
      "['bnana', 'mango', 'apple']\n"
     ]
    }
   ],
   "source": [
    "#4.revers functoin is used to decending orders\n",
    "fruits=['apple','mango','bnana']\n",
    "fruits.reverse()\n",
    "print(fruits)"
   ]
  },
  {
   "cell_type": "code",
   "execution_count": 13,
   "metadata": {},
   "outputs": [
    {
     "name": "stdout",
     "output_type": "stream",
     "text": [
      "['apple', 'mango', 'bnana', 'orange', 'ford', 'bmw', 'volvo']\n"
     ]
    }
   ],
   "source": [
    "#5.extendfunction \n",
    "fruits=['apple','mango','bnana','orange']\n",
    "car=['ford','bmw','volvo']\n",
    "fruits.extend(car)\n",
    "print(fruits)"
   ]
  },
  {
   "cell_type": "code",
   "execution_count": null,
   "metadata": {},
   "outputs": [],
   "source": []
  }
 ],
 "metadata": {
  "kernelspec": {
   "display_name": "Python 3",
   "language": "python",
   "name": "python3"
  },
  "language_info": {
   "codemirror_mode": {
    "name": "ipython",
    "version": 3
   },
   "file_extension": ".py",
   "mimetype": "text/x-python",
   "name": "python",
   "nbconvert_exporter": "python",
   "pygments_lexer": "ipython3",
   "version": "3.9.1"
  }
 },
 "nbformat": 4,
 "nbformat_minor": 4
}
