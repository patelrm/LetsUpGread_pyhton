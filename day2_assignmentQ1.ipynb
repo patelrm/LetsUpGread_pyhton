{
 "cells": [
  {
   "cell_type": "code",
   "execution_count": 1,
   "metadata": {},
   "outputs": [
    {
     "name": "stdout",
     "output_type": "stream",
     "text": [
      "2\n"
     ]
    }
   ],
   "source": [
    "# Q1 different 5 function of the string in python\n",
    "str=\"i love apple ,apple are my favrite fruit\"\n",
    "x=str.count(\"apple\")\n",
    "print(x)\n"
   ]
  },
  {
   "cell_type": "code",
   "execution_count": 2,
   "metadata": {},
   "outputs": [
    {
     "name": "stdout",
     "output_type": "stream",
     "text": [
      "7\n"
     ]
    }
   ],
   "source": [
    "#2.find funtction \n",
    "str=\"hello, welcome to my world\"\n",
    "x=str.find('w')\n",
    "print(x)"
   ]
  },
  {
   "cell_type": "code",
   "execution_count": 3,
   "metadata": {},
   "outputs": [
    {
     "name": "stdout",
     "output_type": "stream",
     "text": [
      "HELLO ,WELCOME TO MY WORLD\n"
     ]
    }
   ],
   "source": [
    "#3.upper\n",
    "str=\"i love apple ,apple are my favrite fruit\"\n",
    "x=str.upper()\n",
    "print(x)"
   ]
  },
  {
   "cell_type": "code",
   "execution_count": 7,
   "metadata": {},
   "outputs": [
    {
     "name": "stdout",
     "output_type": "stream",
     "text": [
      "['hello,', 'my', 'name', 'is', 'peter,i', 'am', '26', 'year', 'old']\n",
      "['hello', ' my name is peter', 'i am 26 year old']\n"
     ]
    }
   ],
   "source": [
    "#3.slipt function\n",
    "str=\"hello, my name is peter,i am 26 year old\"\n",
    "x=str.split()\n",
    "print(x)\n",
    "x=str.split(\",\")\n",
    "print(x)"
   ]
  },
  {
   "cell_type": "code",
   "execution_count": 10,
   "metadata": {},
   "outputs": [
    {
     "name": "stdout",
     "output_type": "stream",
     "text": [
      "hEllo, my namE is pEtEr,i am 26 yEar old\n"
     ]
    }
   ],
   "source": [
    "#4.maketrans\n",
    "str=\"hello, my name is peter,i am 26 year old\"\n",
    "x=str.maketrans(\"e\",\"E\")\n",
    "print(str.translate(x))"
   ]
  },
  {
   "cell_type": "code",
   "execution_count": 4,
   "metadata": {},
   "outputs": [
    {
     "name": "stdout",
     "output_type": "stream",
     "text": [
      "('hello my name is', ' peter', ',i am 26 year old')\n"
     ]
    }
   ],
   "source": [
    "#5.translate \n",
    "str=\"hello my name is peter,i am 26 year old\"\n",
    "print(str.rpartition(' peter'))"
   ]
  },
  {
   "cell_type": "code",
   "execution_count": null,
   "metadata": {},
   "outputs": [],
   "source": []
  }
 ],
 "metadata": {
  "kernelspec": {
   "display_name": "Python 3",
   "language": "python",
   "name": "python3"
  },
  "language_info": {
   "codemirror_mode": {
    "name": "ipython",
    "version": 3
   },
   "file_extension": ".py",
   "mimetype": "text/x-python",
   "name": "python",
   "nbconvert_exporter": "python",
   "pygments_lexer": "ipython3",
   "version": "3.9.1"
  }
 },
 "nbformat": 4,
 "nbformat_minor": 4
}
